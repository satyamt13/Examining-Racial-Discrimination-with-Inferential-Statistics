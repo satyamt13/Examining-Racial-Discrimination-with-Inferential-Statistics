{
 "cells": [
  {
   "cell_type": "markdown",
   "metadata": {},
   "source": [
    "# Examining Racial Discrimination in the US Job Market\n",
    "\n",
    "### Background\n",
    "Racial discrimination continues to be pervasive in cultures throughout the world. Researchers examined the level of racial discrimination in the United States labor market by randomly assigning identical résumés to black-sounding or white-sounding names and observing the impact on requests for interviews from employers.\n",
    "\n",
    "### Data\n",
    "In the dataset provided, each row represents a resume. The 'race' column has two values, 'b' and 'w', indicating black-sounding and white-sounding. The column 'call' has two values, 1 and 0, indicating whether the resume received a call from employers or not.\n",
    "\n",
    "Note that the 'b' and 'w' values in race are assigned randomly to the resumes when presented to the employer."
   ]
  },
  {
   "cell_type": "markdown",
   "metadata": {},
   "source": [
    "### Exercises\n",
    "You will perform a statistical analysis to establish whether race has a significant impact on the rate of callbacks for resumes.\n",
    "\n",
    "Answer the following questions **in this notebook below and submit to your Github account**. \n",
    "\n",
    "   1. What test is appropriate for this problem? Does CLT apply?\n",
    "   2. What are the null and alternate hypotheses?\n",
    "   3. Compute margin of error, confidence interval, and p-value.\n",
    "   4. Write a story describing the statistical significance in the context or the original problem.\n",
    "   5. Does your analysis mean that race/name is the most important factor in callback success? Why or why not? If not, how would you amend your analysis?\n",
    "\n",
    "You can include written notes in notebook cells using Markdown: \n",
    "   - In the control panel at the top, choose Cell > Cell Type > Markdown\n",
    "   - Markdown syntax: http://nestacms.com/docs/creating-content/markdown-cheat-sheet\n",
    "\n",
    "\n",
    "#### Resources\n",
    "+ Experiment information and data source: http://www.povertyactionlab.org/evaluation/discrimination-job-market-united-states\n",
    "+ Scipy statistical methods: http://docs.scipy.org/doc/scipy/reference/stats.html \n",
    "+ Markdown syntax: http://nestacms.com/docs/creating-content/markdown-cheat-sheet\n",
    "****"
   ]
  },
  {
   "cell_type": "code",
   "execution_count": 1,
   "metadata": {
    "collapsed": true
   },
   "outputs": [],
   "source": [
    "import pandas as pd\n",
    "import numpy as np\n",
    "from scipy import stats"
   ]
  },
  {
   "cell_type": "code",
   "execution_count": 2,
   "metadata": {},
   "outputs": [],
   "source": [
    "data = pd.io.stata.read_stata('data/us_job_market_discrimination.dta')"
   ]
  },
  {
   "cell_type": "code",
   "execution_count": 3,
   "metadata": {},
   "outputs": [
    {
     "data": {
      "text/plain": [
       "157.0"
      ]
     },
     "execution_count": 3,
     "metadata": {},
     "output_type": "execute_result"
    }
   ],
   "source": [
    "# number of callbacks for black-sounding names\n",
    "sum(data[data.race=='b'].call)"
   ]
  },
  {
   "cell_type": "code",
   "execution_count": 9,
   "metadata": {},
   "outputs": [
    {
     "data": {
      "text/html": [
       "<div>\n",
       "<style>\n",
       "    .dataframe thead tr:only-child th {\n",
       "        text-align: right;\n",
       "    }\n",
       "\n",
       "    .dataframe thead th {\n",
       "        text-align: left;\n",
       "    }\n",
       "\n",
       "    .dataframe tbody tr th {\n",
       "        vertical-align: top;\n",
       "    }\n",
       "</style>\n",
       "<table border=\"1\" class=\"dataframe\">\n",
       "  <thead>\n",
       "    <tr style=\"text-align: right;\">\n",
       "      <th></th>\n",
       "      <th>race</th>\n",
       "      <th>call</th>\n",
       "    </tr>\n",
       "  </thead>\n",
       "  <tbody>\n",
       "    <tr>\n",
       "      <th>0</th>\n",
       "      <td>w</td>\n",
       "      <td>0.0</td>\n",
       "    </tr>\n",
       "    <tr>\n",
       "      <th>1</th>\n",
       "      <td>w</td>\n",
       "      <td>0.0</td>\n",
       "    </tr>\n",
       "    <tr>\n",
       "      <th>2</th>\n",
       "      <td>b</td>\n",
       "      <td>0.0</td>\n",
       "    </tr>\n",
       "    <tr>\n",
       "      <th>3</th>\n",
       "      <td>b</td>\n",
       "      <td>0.0</td>\n",
       "    </tr>\n",
       "    <tr>\n",
       "      <th>4</th>\n",
       "      <td>w</td>\n",
       "      <td>0.0</td>\n",
       "    </tr>\n",
       "  </tbody>\n",
       "</table>\n",
       "</div>"
      ],
      "text/plain": [
       "  race  call\n",
       "0    w   0.0\n",
       "1    w   0.0\n",
       "2    b   0.0\n",
       "3    b   0.0\n",
       "4    w   0.0"
      ]
     },
     "execution_count": 9,
     "metadata": {},
     "output_type": "execute_result"
    }
   ],
   "source": [
    "#Extracting the columns we need for our analysis\n",
    "callback_data = data[['race','call']]\n",
    "callback_data.head()"
   ]
  },
  {
   "cell_type": "markdown",
   "metadata": {},
   "source": [
    "### Initial observation from the data"
   ]
  },
  {
   "cell_type": "code",
   "execution_count": 11,
   "metadata": {},
   "outputs": [
    {
     "name": "stdout",
     "output_type": "stream",
     "text": [
      "Number of resumes sent out with black sounding names (b) and white sounding names (w):\n",
      "b    2435\n",
      "w    2435\n",
      "Name: race, dtype: int64\n"
     ]
    }
   ],
   "source": [
    "print('Number of resumes sent out with black sounding names (b) and white sounding names (w):')\n",
    "print(callback_data['race'].value_counts())"
   ]
  },
  {
   "cell_type": "code",
   "execution_count": 20,
   "metadata": {},
   "outputs": [
    {
     "name": "stdout",
     "output_type": "stream",
     "text": [
      "Percentage of callbacks for the resume with a white sounding name:\n",
      "9.65092402464 %\n"
     ]
    }
   ],
   "source": [
    "#Creating an array with the results from the resume with white sounding names\n",
    "white_filter = callback_data['race'] == 'w'\n",
    "callback_data_white = callback_data.loc[white_filter]\n",
    "white_boolean = np.array(callback_data_white['call'])\n",
    "\n",
    "print('Percentage of callbacks for the resume with a white sounding name:')\n",
    "print((np.sum(white_boolean)) / len(white_boolean) * 100,'%')\n"
   ]
  },
  {
   "cell_type": "code",
   "execution_count": 21,
   "metadata": {},
   "outputs": [
    {
     "name": "stdout",
     "output_type": "stream",
     "text": [
      "Percentage of callbacks for the resume with a black sounding name:\n",
      "6.4476386037 %\n"
     ]
    }
   ],
   "source": [
    "#Creating an array with the results from the resume with black sounding names\n",
    "black_filter = callback_data['race'] == 'b'\n",
    "callback_data_black = callback_data.loc[black_filter]\n",
    "black_boolean = np.array(callback_data_black['call'])\n",
    "\n",
    "print('Percentage of callbacks for the resume with a black sounding name:')\n",
    "print((np.sum(black_boolean)) / len(black_boolean) * 100,'%')"
   ]
  },
  {
   "cell_type": "code",
   "execution_count": 48,
   "metadata": {},
   "outputs": [
    {
     "name": "stdout",
     "output_type": "stream",
     "text": [
      "Observed difference between the callback rate from an identical resume with a white and black sounding name:\n",
      "3.20328542094 %\n"
     ]
    }
   ],
   "source": [
    "#Computing the observed percentage difference\n",
    "print('Observed difference between the callback rate from an identical resume with a white and black sounding name:')\n",
    "print(observed_stat,'%')"
   ]
  },
  {
   "cell_type": "markdown",
   "metadata": {},
   "source": [
    "### Testing our hypothesis using permutation resampling "
   ]
  },
  {
   "cell_type": "markdown",
   "metadata": {},
   "source": [
    "We see above from the data that identical resumes with white sounding names get approximately 3% more callbacks than the same resume with a black sounding name.\n",
    "\n",
    "To test if race did play a part in this discripency of callbacks and it was not due to just chance, we will conduct a hypothesis test using permutation resampling.\n",
    "\n",
    "**Null hypothesis:** The difference in callback rate was due to chance<br>\n",
    "**Alternative hypothesis:** The difference in callback rate was due to difference in white and black sounding names\n",
    "\n",
    "For our hypothesis test we will use permutation resampling to stimulate the collection of data under the null hypothesis which is that the difference in callback rates was completely random.\n",
    "\n",
    "Our test statistic here is the percentage difference in callback rates recieved by an indentical resume with a black sounding name and a white sounding name\n",
    "\n",
    "Using permutation resampling we will generate 100,000 permutation replicates(our t-statistic) to compare with the observed statistic of 3%"
   ]
  },
  {
   "cell_type": "code",
   "execution_count": 45,
   "metadata": {},
   "outputs": [
    {
     "name": "stdout",
     "output_type": "stream",
     "text": [
      "95% Confidence Intervals:\n",
      "[-1.56057495  1.56057495]\n",
      "Margin of Error:\n",
      "0.00788701268048\n",
      "\n",
      "\n",
      "P-value:\n",
      "4e-05\n",
      "i.e 0.00004\n"
     ]
    }
   ],
   "source": [
    "#Function that calculates our t-stat (percentage difference of successes between 2 arrays)\n",
    "def t_stat(x,y):\n",
    "    frac_x = np.sum(x) / len(x)\n",
    "    frac_y = np.sum(y) / len(y)\n",
    "    return (frac_x - frac_y) * 100\n",
    "\n",
    "observed_stat = t_stat(white_boolean,black_boolean)\n",
    "\n",
    "merged_array = np.concatenate((white_boolean,black_boolean),axis=0)\n",
    "\n",
    "perm_replicates = np.empty(100000)\n",
    "\n",
    "#Generating 100,000 permutation replicates(our t-stat) to test our hypothesis\n",
    "for i in range(100000):\n",
    "    perm_resample = np.random.permutation(merged_array)\n",
    "    w_perm = perm_resample[:len(white_boolean)]\n",
    "    b_perm = perm_resample[len(white_boolean):]\n",
    "    t_statistic = t_stat(w_perm,b_perm)\n",
    "    perm_replicates[i] = t_statistic\n",
    "\n",
    "#Computing the 95% confidence intervals\n",
    "print('95% Confidence Intervals:')\n",
    "print(np.percentile(perm_replicates,[2.5,97.5]))\n",
    "\n",
    "#Computing the margin of error using the standard error \n",
    "standard_error = np.std(perm_replicates) / np.sqrt(len(perm_replicates))\n",
    "MOE = observed_stat * standard_error\n",
    "print('Margin of Error:')\n",
    "print(MOE)\n",
    "\n",
    "#Computing our p-value\n",
    "p_value = np.sum(perm_replicates >= observed_stat) / len(perm_replicates)\n",
    "print()\n",
    "print()\n",
    "print('P-value:')\n",
    "print(p_value)\n",
    "print('i.e 0.00004')"
   ]
  },
  {
   "cell_type": "markdown",
   "metadata": {},
   "source": [
    "Conclusion: 95% of values of the test-statistic from random distribution (percentage difference in callback) lie between -1.5605% and 1.5605% with a margin of error of 0.0078%. \n",
    "\n",
    "Our p-value is 0.00004, which is statistically significant because it indicates the percentage difference in callback rates from random distribution was as high as the observed difference of 3% only 0.004% of the time.\n",
    "\n",
    "As a result we can reject our null hypothesis and conclude that the difference in callback rates in identical resume is not due to random chance, but race/name does play a part in the amount of callback a resume recieves.\n",
    "\n",
    "**Warning: This data does not conclude that race/name is the most important part in callback success rate of a resume.** **This data simply concludes that given two exactly indentical resumes, one with a black sounding name** **and one with a white sounding name, the one with the white sounding name will recieve approximately 3% more** **callbacks than the same resume with a black sounding name.**\n"
   ]
  }
 ],
 "metadata": {
  "kernelspec": {
   "display_name": "Python 3",
   "language": "python",
   "name": "python3"
  },
  "language_info": {
   "codemirror_mode": {
    "name": "ipython",
    "version": 3
   },
   "file_extension": ".py",
   "mimetype": "text/x-python",
   "name": "python",
   "nbconvert_exporter": "python",
   "pygments_lexer": "ipython3",
   "version": "3.6.3"
  }
 },
 "nbformat": 4,
 "nbformat_minor": 1
}
